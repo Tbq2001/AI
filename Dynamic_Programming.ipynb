{
  "nbformat": 4,
  "nbformat_minor": 0,
  "metadata": {
    "colab": {
      "provenance": [],
      "include_colab_link": true
    },
    "kernelspec": {
      "name": "python3",
      "display_name": "Python 3"
    },
    "language_info": {
      "name": "python"
    }
  },
  "cells": [
    {
      "cell_type": "markdown",
      "metadata": {
        "id": "view-in-github",
        "colab_type": "text"
      },
      "source": [
        "<a href=\"https://colab.research.google.com/github/Tbq2001/AI/blob/main/Dynamic_Programming.ipynb\" target=\"_parent\"><img src=\"https://colab.research.google.com/assets/colab-badge.svg\" alt=\"Open In Colab\"/></a>"
      ]
    },
    {
      "cell_type": "code",
      "execution_count": 3,
      "metadata": {
        "collapsed": true,
        "id": "bXN7gQjQq-A4",
        "outputId": "80fcf3c4-bd4c-4022-e072-dd80f8bf4abb",
        "colab": {
          "base_uri": "https://localhost:8080/"
        }
      },
      "outputs": [
        {
          "output_type": "stream",
          "name": "stdout",
          "text": [
            "Minimum time to reach block 15: 6.0 minutes\n"
          ]
        }
      ],
      "source": [
        "def min_time(current_state, n, dp):\n",
        "    # Base case: already at target\n",
        "    if current_state == n:\n",
        "        return 0  # (1) What should be returned here?\n",
        "\n",
        "    # If already computed, return stored value\n",
        "    if dp[current_state] != -1:\n",
        "        return dp[current_state]  # (2) What should be returned here?\n",
        "\n",
        "    # Option 1: Walk to current_state + 1\n",
        "    walk_time = float('inf')\n",
        "    if current_state + 1 <= n:\n",
        "        walk_time = 1 + min_time(current_state + 1, n, dp)  # (3) What should be added?\n",
        "\n",
        "    # Option 2: Tram to 2 * current_state\n",
        "    tram_time = float('inf')\n",
        "    if 2 * current_state <= n:\n",
        "        tram_time = 2 + min_time(2 * current_state, n, dp) # (4) What should be added?\n",
        "\n",
        "    # Option 3: Bike to current_state + 3\n",
        "    bike_time = float('inf')\n",
        "    if current_state + 3 <= n:\n",
        "        bike_time = 1.5 + min_time(current_state + 3, n, dp)  # (5) What should be added?\n",
        "\n",
        "    # Memoize and return the minimum time\n",
        "    dp[current_state] = min(walk_time, tram_time, bike_time)  # (6) What should be stored in dp?\n",
        "    return dp[current_state]\n",
        "\n",
        "# Example usage\n",
        "n = 15  # Change n to any target block\n",
        "dp = [-1.0] * (n + 1)  # Initialize DP table\n",
        "print(f\"Minimum time to reach block {n}: {min_time(1, n, dp)} minutes\")"
      ]
    }
  ]
}